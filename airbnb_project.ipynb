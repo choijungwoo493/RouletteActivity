{
  "nbformat": 4,
  "nbformat_minor": 0,
  "metadata": {
    "colab": {
      "name": "airbnb.project",
      "private_outputs": true,
      "provenance": [],
      "authorship_tag": "ABX9TyMHqm50/WAzDaZmtdiwWLeG",
      "include_colab_link": true
    },
    "kernelspec": {
      "name": "python3",
      "display_name": "Python 3"
    },
    "language_info": {
      "name": "python"
    },
    "accelerator": "GPU"
  },
  "cells": [
    {
      "cell_type": "markdown",
      "metadata": {
        "id": "view-in-github",
        "colab_type": "text"
      },
      "source": [
        "<a href=\"https://colab.research.google.com/github/choijungwoo493/RouletteActivity/blob/master/airbnb_project.ipynb\" target=\"_parent\"><img src=\"https://colab.research.google.com/assets/colab-badge.svg\" alt=\"Open In Colab\"/></a>"
      ]
    },
    {
      "cell_type": "code",
      "metadata": {
        "id": "9Mlk0PaVnV8f"
      },
      "source": [
        "import os"
      ],
      "execution_count": null,
      "outputs": []
    },
    {
      "cell_type": "code",
      "metadata": {
        "id": "bGp165ONnSH4"
      },
      "source": [
        "os.environ['KAGGLE_USERNAME'] = 'choijungwooo'\n",
        "os.environ['KAGGLE_KEY'] = '95db305a8589b1b8eff0d6f16b995ba1'"
      ],
      "execution_count": null,
      "outputs": []
    },
    {
      "cell_type": "code",
      "metadata": {
        "id": "7bbA7VATn6Pc"
      },
      "source": [
        "!pip install kaggle --upgrade"
      ],
      "execution_count": null,
      "outputs": []
    },
    {
      "cell_type": "code",
      "metadata": {
        "id": "Gy_9T_jBn2KO"
      },
      "source": [
        "!kaggle -h"
      ],
      "execution_count": null,
      "outputs": []
    },
    {
      "cell_type": "code",
      "metadata": {
        "id": "nJxt_EfgoWFD"
      },
      "source": [
        "!pip install --upgrade --force-reinstall --no-deps kaggle"
      ],
      "execution_count": null,
      "outputs": []
    },
    {
      "cell_type": "code",
      "metadata": {
        "id": "ossgQhoonlEC"
      },
      "source": [
        "!kaggle competitions download -c airbnb-recruiting-new-user-bookings"
      ],
      "execution_count": null,
      "outputs": []
    },
    {
      "cell_type": "code",
      "metadata": {
        "id": "OG6hKSa0ohqJ"
      },
      "source": [
        "!unzip -qq \"/content/airbnb-recruiting-new-user-bookings.zip\""
      ],
      "execution_count": null,
      "outputs": []
    },
    {
      "cell_type": "code",
      "metadata": {
        "id": "JnabnumApNqi"
      },
      "source": [
        "#라이브러리 설치\n",
        "import pandas as pd \n",
        "import numpy as np \n",
        "import seaborn as sns\n",
        "import matplotlib.pyplot as plt\n",
        "sns.set()\n",
        "\n",
        "from datetime import datetime\n",
        "from sklearn.preprocessing import LabelEncoder\n",
        "from xgboost.sklearn import XGBClassifier\n",
        "\n",
        "import warnings\n",
        "warnings.filterwarnings(\"ignore\")\n",
        "\n",
        "import os\n",
        "for dirname, _, filenames in os.walk(''):\n",
        "    for filename in filenames:\n",
        "        print(os.path.join(dirname, filename))\n",
        "\n",
        "#add colores for plot bars\n",
        "colors = ['#1f77b4', '#ff7f0e', '#2ca02c', '#d62728', '#9467bd',\n",
        "          '#8c564b', '#e377c2', '#7f7f7f', '#bcbd22', '#17becf'] "
      ],
      "execution_count": null,
      "outputs": []
    },
    {
      "cell_type": "code",
      "metadata": {
        "id": "o3GRoMQ4p0rD"
      },
      "source": [
        "# train set 과 test set을 각각 다른 데이터 프레임에 넣은뒤 csv 의 특정 컬럼 중 날짜형태로 표시되어 있어도 csv를 불러오면 object(string) 형태로 선언되어 있다.\n",
        "#따라서 parse_dates를 이용해서 datetime형태로 데이터를 load한다\n",
        "train_df = pd.read_csv('/content/train_users_2.csv.zip', parse_dates=['timestamp_first_active','date_account_created','date_first_booking'])\n",
        "\n",
        "test_df= pd.read_csv('/content/test_users.csv.zip',parse_dates=['timestamp_first_active','date_account_created','date_first_booking'])\n",
        "\n",
        "bookings_data  = pd.read_csv(\"/content/train_users_2.csv.zip\")"
      ],
      "execution_count": null,
      "outputs": []
    },
    {
      "cell_type": "code",
      "metadata": {
        "id": "jAGMhk03tSVN"
      },
      "source": [
        "train_df.head(30)"
      ],
      "execution_count": null,
      "outputs": []
    },
    {
      "cell_type": "code",
      "metadata": {
        "id": "zLO6S6P7qZMT"
      },
      "source": [
        "train_df.info()"
      ],
      "execution_count": null,
      "outputs": []
    },
    {
      "cell_type": "code",
      "metadata": {
        "id": "YLxDBAZWq-62"
      },
      "source": [
        "test_df.info()"
      ],
      "execution_count": null,
      "outputs": []
    },
    {
      "cell_type": "code",
      "metadata": {
        "id": "9ehHHCZCsd8v"
      },
      "source": [
        "train_test_combin = pd.concat((train_df, test_df), axis = 0, ignore_index = True)"
      ],
      "execution_count": null,
      "outputs": []
    },
    {
      "cell_type": "code",
      "metadata": {
        "id": "nqYP_u0BuyrS"
      },
      "source": [
        "train_test_combin.head()"
      ],
      "execution_count": null,
      "outputs": []
    },
    {
      "cell_type": "code",
      "metadata": {
        "id": "LfEiO-7zu0LZ"
      },
      "source": [
        ""
      ],
      "execution_count": null,
      "outputs": []
    }
  ]
}